{
  "cells": [
    {
      "cell_type": "markdown",
      "metadata": {
        "id": "3l4z8dqNAUOA"
      },
      "source": [
        "<div style=\"direction:rtl;line-height:300%;\">\n",
        "<font face=\"XB Zar\" size=5>\n",
        "<div align=center>\n",
        "<font face=\"B Titr\" size=5>\n",
        "<p></p><p></p>\n",
        "بسمه تعالی\n",
        "<p></p>\n",
        "</font>\n",
        "<p></p>\n",
        "<font>\n",
        "<br>\n",
        "درس بازیابی پیشرفته اطلاعات\n",
        "<br>\n",
        "مدرس: دکتر بیگی\n",
        "</font>\n",
        "<p></p>\n",
        "<br>\n",
        "<font>\n",
        "<b>تمرین دوم</b>\n",
        "</font>\n",
        "<br>\n",
        "<br>\n",
        "موعد تحویل: ... آبان <br>\n",
        "<br>\n",
        "<br>\n",
        "<br>\n",
        "<font>\n",
        "دانشگاه صنعتی شریف\n",
        "<br>\n",
        "دانشکده مهندسی کامپیوتر\n",
        "<br>\n",
        "<br>\n",
        "</font>\n",
        "</div>\n",
        "</font>\n",
        "</div>"
      ]
    },
    {
      "cell_type": "markdown",
      "metadata": {
        "id": "webKqnmM7cX6"
      },
      "source": [
        "mobina salimipanah - 99109788"
      ]
    },
    {
      "cell_type": "markdown",
      "metadata": {
        "id": "JEhnGX5EAUOC"
      },
      "source": [
        "<div dir='rtl'>\n",
        "<h1>\n",
        "مقدمه\n",
        "</h1>\n",
        "<p>\n",
        "در این تمرین قصد داریم به مباحث زیر بپردازیم:\n",
        "    <li>مدل‌های برداری</li>\n",
        "    <li>امتیازدهی و ارزیابی سیستم بازیابی</li>\n",
        "    <li>مدل‌های احتمالاتی</li>\n",
        "\n",
        "دیتاست مورد استفاده در این تمرین را می‌توانید در کنار این فایل مشاهده کنید. همچنین لطفا پس از اتمام تمرین یک بار از اول تا آخر نوت‌بوک را اجرا کنید تا مطمئن باشید تمام سل‌ها به درستی کار می‌کنند.\n",
        "\n",
        "کتابخانه‌های مورد نظرتان را هم می‌توانید در اولین سل نوت‌بوک فراخوانی کنید.\n",
        "</p>\n",
        "</div>"
      ]
    },
    {
      "cell_type": "markdown",
      "metadata": {
        "id": "swx-jOFSAUOE"
      },
      "source": [
        "<div dir='rtl'>\n",
        "<h1>1.\n",
        "آماده‌سازی دیتاست\n",
        "</h1>\n",
        "<p>\n",
        "با استفاده از تمرین قبل و عملیات‌هایی که در آنجا برای پیش‌پردازش متون پیاده‌سازی کردید، دیتاست داده شده را لود کنید. قرار است در ادامه با این دیتاست بخش‌های بعدی تمرین را پیاده‌سازی کنید. همچنین در صورتی که اجرای سل‌های بعدی برایتان طول کشید، می‌توانید آن را کوچک کنید. مثلا از ۷۰درصد دیتای آن استفاده کنید.\n",
        "</p>\n",
        "</div>"
      ]
    },
    {
      "cell_type": "code",
      "execution_count": 6,
      "metadata": {
        "id": "zQzwpQ3VAUOD"
      },
      "outputs": [],
      "source": [
        "import math\n",
        "import pandas as pd\n",
        "import numpy as np\n",
        "from collections import defaultdict\n",
        "from typing import List, Union\n",
        "\n",
        "import nltk\n",
        "from nltk.corpus import stopwords\n",
        "from nltk.tokenize import word_tokenize\n",
        "from nltk.stem import WordNetLemmatizer\n",
        "from nltk.stem import PorterStemmer\n",
        "import re\n",
        "import csv"
      ]
    },
    {
      "cell_type": "code",
      "execution_count": 7,
      "metadata": {
        "id": "5x_h1rOzAUOE"
      },
      "outputs": [],
      "source": [
        "# load the dataset\n",
        "data = []\n",
        "with open('./AI & Bioinformatics/data.csv', 'r', encoding='utf-8') as csvfile:\n",
        "    reader = csv.DictReader(csvfile)\n",
        "    for row in reader:\n",
        "        data.append((row['paperId'], row['title'], row['abstract']))\n"
      ]
    },
    {
      "cell_type": "code",
      "execution_count": 8,
      "metadata": {
        "colab": {
          "base_uri": "https://localhost:8080/"
        },
        "id": "ChDAFKl6Bi7c",
        "outputId": "73963bc6-3dfe-4c6b-98d6-a132306dbf58"
      },
      "outputs": [
        {
          "name": "stderr",
          "output_type": "stream",
          "text": [
            "[nltk_data] Downloading package stopwords to\n",
            "[nltk_data]     /Users/mobina/nltk_data...\n",
            "[nltk_data]   Package stopwords is already up-to-date!\n",
            "[nltk_data] Downloading package punkt to /Users/mobina/nltk_data...\n",
            "[nltk_data]   Package punkt is already up-to-date!\n",
            "[nltk_data] Downloading package wordnet to /Users/mobina/nltk_data...\n",
            "[nltk_data]   Package wordnet is already up-to-date!\n"
          ]
        },
        {
          "data": {
            "text/plain": [
              "True"
            ]
          },
          "execution_count": 8,
          "metadata": {},
          "output_type": "execute_result"
        }
      ],
      "source": [
        "nltk.download('stopwords')\n",
        "nltk.download('punkt')\n",
        "nltk.download('wordnet')"
      ]
    },
    {
      "cell_type": "code",
      "execution_count": 9,
      "metadata": {
        "id": "c_H_f-0RaSCd"
      },
      "outputs": [],
      "source": [
        "# preprocess\n",
        "class Preprocessor:\n",
        "\n",
        "    def __init__(self, stopwords_path = None):\n",
        "      # Create a variable of stop words.\n",
        "\n",
        "        if stopwords_path:\n",
        "            with open(stopwords_path, 'r') as file:\n",
        "                for f in file:\n",
        "                    line = \"\"\n",
        "                    for char in f:\n",
        "                        if char.strip():\n",
        "                            line += char\n",
        "                    self.stopwords.append(line)\n",
        "        else:\n",
        "            self.stopwords = set(stopwords.words('english'))\n",
        "\n",
        "    def preprocess(self, text):\n",
        "      # The main function of the class.\n",
        "        text = self.normalize(text)\n",
        "        text = self.remove_links(text)\n",
        "        text = self.remove_punctuations(text)\n",
        "        words = self.word_tokenize(text)\n",
        "        words = self.remove_stopwords(words)\n",
        "        return words\n",
        "\n",
        "    def normalize(self, text):\n",
        "        # Normalize text (lower case, stemming, lemmatization, etc.)\n",
        "        text = text.lower()\n",
        "        words = self.word_tokenize(text)\n",
        "\n",
        "        #stemming\n",
        "        stemmed_words = []\n",
        "        for w in words:\n",
        "            stemmed_words.append(PorterStemmer().stem(w))\n",
        "        words = stemmed_words\n",
        "\n",
        "        #lemmatizing\n",
        "        words = [WordNetLemmatizer().lemmatize(w) for w in words]\n",
        "\n",
        "        return ' '.join(words)\n",
        "\n",
        "\n",
        "    def remove_links(self, text):\n",
        "        # Remove links\n",
        "        return re.sub(r'^https?:\\/\\/.*[\\r\\n]*', '', text, flags=re.MULTILINE)\n",
        "\n",
        "    def remove_punctuations(self, text):\n",
        "        # Remove punctutaions\n",
        "        return re.sub(r'[^\\w\\s]','',text)\n",
        "\n",
        "    def word_tokenize(self, text):\n",
        "        # Tokenize text\n",
        "        return nltk.word_tokenize(text)\n",
        "\n",
        "    def remove_stopwords(self, words):\n",
        "        # Remove stopwords\n",
        "        not_stopwords = []\n",
        "        for word in words:\n",
        "            if word not in self.stopwords:\n",
        "                not_stopwords.append(word)\n",
        "        return not_stopwords\n",
        "\n"
      ]
    },
    {
      "cell_type": "markdown",
      "metadata": {
        "id": "FsrxMKdcAUOE"
      },
      "source": [
        "<div dir='rtl'>\n",
        "<h2>1-1.\n",
        "نمایه‌سازی\n",
        "</h2>\n",
        "<p>\n",
        "در این بخش باید برای سامانه یک\n",
        "Positional Index\n",
        "بسازید.\n",
        "<br>\n",
        "با توجه به مواردی که در بخش بعد می‌آید و نیاز به جست‌وجو‌ی مجزا و با امتیازدهی متفاوت بر روی بخش‌های مختلف سند مثل عنوان یا چکیده آن، در این قسمت باید نمایه‌ی مناسب برای امکان جست‌وجو‌ در بخش‌های مختلف را پیاده‌سازی کنید.\n",
        "با استفاده از نمایه‌ی ساخته‌شده باید بتوان شماره‌ی تمامی اسنادی که یک کلمه در آن آمده است و همچنین همه‌ی جایگاه‌های این کلمه در هر بخش از هر سند را پیدا کرد.\n",
        "\n",
        "برای این بخش می‌توانید از نمایه‌ای که در تمرین اول زدید استفاده کنید.\n",
        "</p>\n",
        "</div>"
      ]
    },
    {
      "cell_type": "code",
      "execution_count": 10,
      "metadata": {
        "colab": {
          "base_uri": "https://localhost:8080/"
        },
        "id": "uGT7_GdtAUOE",
        "outputId": "2c6c06ea-8268-48d5-9864-d378033f0075"
      },
      "outputs": [
        {
          "name": "stdout",
          "output_type": "stream",
          "text": [
            "34780\n"
          ]
        }
      ],
      "source": [
        "#process data\n",
        "preprocessor = Preprocessor()\n",
        "corpus = {}\n",
        "for row in data:\n",
        "  paperId, title, abstract = row\n",
        "  processed_title = preprocessor.preprocess(title)\n",
        "  processed_abstract = preprocessor.preprocess(abstract)\n",
        "\n",
        "  corpus[paperId] = {'title': processed_title, 'abstract': processed_abstract}\n",
        "\n",
        "def construct_positional_indexes(corpus: dict) -> dict:\n",
        "    \"\"\"\n",
        "    Constructs positional indexes for the processed data by inserting words into a trie and creating positional indexes and posting lists.\n",
        "\n",
        "    Parameters\n",
        "    ----------\n",
        "    corpus : dict\n",
        "        The processed data.\n",
        "\n",
        "    Returns\n",
        "    -------\n",
        "    dict\n",
        "        The constructed positional indexes.\n",
        "    \"\"\"\n",
        "    positional_index = defaultdict(lambda: defaultdict(lambda: {'title': [], 'abstract': []}))\n",
        "    # TODO: Insert words from the processed data into a trie and construct positional indexes and posting lists.\n",
        "    for ـid, document in corpus.items():\n",
        "\n",
        "        for position, token in enumerate(document['title']):\n",
        "            positional_index[token][ـid]['title'].append(position)\n",
        "\n",
        "        for position, token in enumerate(document['abstract']):\n",
        "            positional_index[token][ـid]['abstract'].append(position)\n",
        "    return positional_index\n",
        "\n",
        "docs = construct_positional_indexes(corpus)\n",
        "print(len(docs))\n"
      ]
    },
    {
      "cell_type": "markdown",
      "metadata": {
        "id": "SWo5zyuhAUOF"
      },
      "source": [
        "<div dir='rtl'>\n",
        "<h1>2.\n",
        "مدل‌های برداری و احتمالاتی\n",
        "</h1>\n",
        "<p>\n",
        "در این بخش قصد داریم تا با استفاده از مدل‌های برداری و احتمالاتی، دو سیستم بازیابی اطلاعات طراحی کنیم. در نهایت قرار است سیستم‌های طراحی شده در این بخش را مورد ارزیابی قرار دهیم.\n",
        "\n",
        "در مدل‌های برداری ما به ازای هر داک که در اختیار داریم و کوئری ورودی یک بردار در فضا در نظر می‌گیریم. در ادامه برای بدست آوردن میزان ارتباط داک‌ها و کوئری، از معیارهایی مانند ضرب داخلی بردارها استفاده می‌کنیم. در این بخش ابتدا بردارهای مربوط به هرکدام را با استفاده از مقادیر\n",
        "tf, idf\n",
        "می‌سازیم و سپس به سراغ محاسبه امتیاز داک‌ها می‌رویم تا در نهایت بتوانیم با استفاده از این امتیازها داک‌هایی مرتبط‌تر را خروجی دهیم و یک سیستم بازیابی کامل را طراحی کنیم.\n",
        "\n",
        "در مدل‌های احتمالاتی اساس کار محاسبه\n",
        "$P(R | d, q)$\n",
        "است. در این روش می‌خواهیم به نوعی داک‌ها را به صورت مدل‌های احتمالاتی ببینیم. در درس مشاهده کردید که در انتها مدل‌های احتمالاتی هم رفتاری مشابه با مدل‌های برداری دارند. در ادامه یک سیستم مبتنی بر این مدل‌ها و با روش\n",
        "Okapi25\n",
        "طراحی می‌کنید.\n",
        "</p>\n",
        "</div>"
      ]
    },
    {
      "cell_type": "markdown",
      "metadata": {
        "id": "8sxMZBY1AUOF"
      },
      "source": [
        "<div dir='rtl'>\n",
        "<h2>2-1.\n",
        "ساخت ماتریس TF-IDF\n",
        "</h2>\n",
        "<p>\n",
        "در این مرحله دو تابع\n",
        "<code dir=\"ltr\">get_tf(token, doc_id)</code>\n",
        "و\n",
        "<code dir=\"ltr\">get_idf(token)</code>\n",
        "را پیاده‌سازی کنید که تابع اول مقدار\n",
        "tf\n",
        "توکن ورودی را در شناسه‌ی موردنظر\n",
        "و تابع دوم مقدار\n",
        "idf\n",
        "توکن ورودی را برروی نمایه‌ی کنونی حساب می‌کند و آن را به عنوان خروجی برمی‌گرداند.\n",
        "</p>\n",
        "</div>\n",
        "\n",
        "$$tf_{t, d} = \\text{Numbers of } t \\text{ in the title of document } d + \\text{Numbers of } t \\text{ in the abstract of document } d$$\n",
        "$$idf_t = \\log\\Biggl(\\frac{\\text{Number of documents}}{\\text{Number of documents that contains } t + 1}\\Biggr)$$"
      ]
    },
    {
      "cell_type": "code",
      "execution_count": 11,
      "metadata": {
        "id": "GFgJHMoNQOJd"
      },
      "outputs": [],
      "source": [
        "def convert(single_item_list):\n",
        "    if len(single_item_list) == 1:\n",
        "        return single_item_list[0]\n",
        "    else:\n",
        "        return None"
      ]
    },
    {
      "cell_type": "code",
      "execution_count": 12,
      "metadata": {
        "colab": {
          "base_uri": "https://localhost:8080/"
        },
        "id": "3uqsZLiCAUOF",
        "outputId": "6c68d6ce-c4e6-491c-f5f5-c6bc6c9df959"
      },
      "outputs": [
        {
          "data": {
            "text/plain": [
              "1"
            ]
          },
          "execution_count": 12,
          "metadata": {},
          "output_type": "execute_result"
        }
      ],
      "source": [
        "def get_tf(token: str, positional_index: dict, doc_id: str) -> int:\n",
        "    \"\"\"\n",
        "    Retrieves the term frequency (TF) of a given token within a specific document.\n",
        "\n",
        "    Parameters\n",
        "    ----------\n",
        "    token : str\n",
        "        The token for which to retrieve the term frequency.\n",
        "    positional_index : dict\n",
        "        A positional index that maps tokens to their positions in documents.\n",
        "    doc_id : str\n",
        "        The unique identifier of the document in which to calculate the TF.\n",
        "\n",
        "    Returns\n",
        "    -------\n",
        "    int\n",
        "        The term frequency (TF) of the given token within the specified document.\n",
        "    \"\"\"\n",
        "\n",
        "    # TODO: Implement the calculation of term frequency (TF) for the token in the specified document.\n",
        "    tf_title = 0\n",
        "    tf_abstract = 0\n",
        "\n",
        "    if token in positional_index:\n",
        "        if doc_id in positional_index[token]:\n",
        "            tf_title = len(positional_index[token][doc_id].get('title', []))\n",
        "            tf_abstract = len(positional_index[token][doc_id].get('abstract', []))\n",
        "\n",
        "    return tf_title + tf_abstract\n",
        "token = convert(preprocessor.preprocess('Atmospheric'))\n",
        "get_tf(token, docs, '1875fe689a5438d4e9561c218a4cf377ac901b82')"
      ]
    },
    {
      "cell_type": "code",
      "execution_count": 13,
      "metadata": {
        "colab": {
          "base_uri": "https://localhost:8080/"
        },
        "id": "5rN1vfxhAUOF",
        "outputId": "4fa024bf-b73c-40ad-bd1b-c41e77a577fc"
      },
      "outputs": [
        {
          "data": {
            "text/plain": [
              "1.2397492485260002"
            ]
          },
          "execution_count": 13,
          "metadata": {},
          "output_type": "execute_result"
        }
      ],
      "source": [
        "def get_idf(token: str,positional_index: dict) -> float:\n",
        "    \"\"\"\n",
        "    Retrieves the inverse document frequency (IDF) of a given token.\n",
        "\n",
        "    Parameters\n",
        "    ----------\n",
        "    token : str\n",
        "        The token to retrieve the IDF for.\n",
        "\n",
        "    Returns\n",
        "    -------\n",
        "    float\n",
        "        The IDF of the given token.\n",
        "    \"\"\"\n",
        "\n",
        "    # TODO: Implement the calculation of IDF for the token based on your document collection.\n",
        "    if token not in positional_index:\n",
        "        return 0\n",
        "\n",
        "    unique_docs = set()\n",
        "\n",
        "    for doc_id in positional_index[token]:\n",
        "        unique_docs.add(doc_id)\n",
        "\n",
        "    all_docs = len(corpus.keys())\n",
        "    df = len(unique_docs)\n",
        "    idf = math.log10(all_docs / (df + 1))\n",
        "    return idf\n",
        "\n",
        "t = convert(preprocessor.preprocess('consid'))\n",
        "get_idf(t ,docs)"
      ]
    },
    {
      "cell_type": "markdown",
      "metadata": {
        "id": "-NGvgGceAUOF"
      },
      "source": [
        "<div dir='rtl'>\n",
        "<p>\n",
        "در مرحله‌ی نهایی تابع\n",
        "<code dir=\"ltr\">generate_tfidf_list(corpus, positional_index)</code>\n",
        "را پیاده‌سازی کنید که با ورودی گرفتن\n",
        "corpus\n",
        "و\n",
        "positional_index\n",
        "مقادیر\n",
        "tf-idf\n",
        "را برای هر\n",
        "token\n",
        "به دست می‌آورد و به شکل یک ماتریس به عنوان خروجی برمی‌گرداند.\n",
        "</p>\n",
        "</div>"
      ]
    },
    {
      "cell_type": "code",
      "execution_count": 14,
      "metadata": {
        "colab": {
          "base_uri": "https://localhost:8080/"
        },
        "id": "GYTMrhOrAUOG",
        "outputId": "8aad4704-2b7a-42b7-8436-224e236476fb"
      },
      "outputs": [
        {
          "name": "stdout",
          "output_type": "stream",
          "text": [
            "{'ultrason': 2.9461012064846184, 'analysi': 0.8057727724158736, 'sic': 3.3140779917792127, 'vibrat': 2.645071210820637, 'amplitud': 2.393259237826838, 'grind': 3.0922292421628566, 'silicon': 2.5870792638429507, 'carbid': 3.490169250834894, 'surfac': 1.5870792638429505, 'ceram': 2.615107987443194, 'face': 1.893572155208434, 'ground': 2.2229975224318803, 'minor': 2.2597203294566204}\n",
            "{'hiv1': 2.6772558941920384, 'use': 0.7882573930789332, 'chimera': 2.9461012064846184, 'robust': 1.280654236292263, 'activ': 0.9231428846758338, 'creat': 1.6513201600976388, 'need': 1.203488281479964, 'pseudotyp': 6.378278510341826, 'replicationcompet': 3.490169250834894, 'virussarscov2': 3.490169250834894, 'chimer': 2.8881092595069315, 'report': 1.202367520904668, 'monoclon': 2.328801248599919, 'assay': 1.6328367544036257, 'plasma': 1.8617803207845824, 'repr': 0, 'emerg': 1.287408563441694, 'ha': 0.7051955408804934, 'virusba': 0, 'antibodi': 5.114518247472382, 'viru': 0.0, 'sarscov2': 2.9846923401783374, 'potenc': 2.3762258985280575, 'vesicular': 6.026095992230464, 'stomat': 6.026095992230464, 'tool': 1.2887721265144425, 'neutral': 6.039143988345694, 'measur': 1.1099580091232881, None: 0}\n",
            "{'use': 0.3941286965394666, 'region': 1.344041215156656, 'remov': 1.7999731708063804, 'display': 1.8418092398539625, 'subtitl': 3.3140779917792127, 'digit': 1.7868778727162327, 'includ': 0.8773853941151586, 'interpol': 1.8567007952553076, 'graylevel': 3.3140779917792127, 'extend': 1.6238819117506993, 'isophot': 3.490169250834894, 'paper': 0.8658871549992257, 'variat': 3.0815584883799625, 'applic': 0.9092442751592749, 'et': 1.7498065613406504, 'initi': 1.4002641393954962, '2001': 3.013047996115232, 'text': 1.921967526767899, 'numer': 3.0815584883799625, 'gestaltist': 3.490169250834894, 'continu': 1.4989431751423992, 'ballest': 3.490169250834894, 'like': 1.4710529603878213, 'thi': 1.0363182300307328, 'restor': 1.9651244437980488, 'present': 1.6954094611855455, 'date': 2.0130479961152314, 'superimpo': 0, 'smoothli': 3.013047996115232, 'experi': 1.0353243908263838, 'al': 1.765893381234105, 'model': 1.2039795138331384, 'gradientisophot': 3.490169250834894, 'principl': 1.778362021793703, 'algorithm': 0.9612525505572393, 'zoom': 3.189139255170913, 'public': 1.6065078156812764, 'disocclu': 0, 'data': 1.2778218042316376, '2d': 1.9918586970452936, 'c': 1.7498065613406504, 'discu': 0, 'introduc': 1.218327644298395, 'studi': 0.6070758922592042, 'techniqu': 1.012324774496136, 'imag': 2.4653500024346817, '3d': 1.6772558941920386, 'photograph': 3.013047996115232, 'process': 0.9092442751592749, 'underli': 1.4146222894423632, 'hole': 2.645071210820637, 'consid': 1.2397492485260002, 'joint': 1.774165907200095, 'approach': 2.3414261433213066, 'miss': 3.591128103802651, 'direct': 1.2648599691090312, 'line': 1.5633125418852016, 'interpret': 1.6481844462447803, 'minim': 1.568482775351292, 'base': 0.7120180004512505, 'old': 2.2471312021485996, 'fillingin': 3.3140779917792127, 'good': 1.5311278585138006}\n",
            "{'anatomi': 2.7120180004512506, 'use': 0.3941286965394666, 'object': 1.081081881387059, 'follow': 1.3012407670740407, 'measur': 1.1099580091232881, 'qualiti': 3.324456624780077, 'interpol': 3.7134015905106152, 'fidel': 4.821976009574539, 'radiolog': 2.615107987443194, 'diagnosi': 1.6298312442639005, 'produc': 1.3663176098678083, 'transfer': 1.5870792638429505, 'increa': 0, 'acquir': 1.82741141915332, 'allow': 1.2160114015712142, 'dure': 1.1081522082600257, 'applic': 0.9092442751592749, 'determinist': 2.560750325120601, 'ssim': 2.7498065613406504, 'irrev': 0, 'frequenc': 1.7012941350594775, 'accept': 1.8827142276202256, 'attempt': 1.9399408977798, 'similar': 1.2521231477060988, 'due': 1.1063538848544627, 'medic': 7.539490088976628, 'regulatori': 1.82741141915332, 'often': 1.3880787253230573, 'depend': 1.3663176098678083, 'element': 1.82741141915332, 'bodi': 1.7618154688136656, 'rescal': 6.628155983558425, 'thi': 0.6908788200204885, 'patholog': 1.7381208030154556, 'employ': 1.4669167912011827, 'aim': 1.130333768495006, 'extent': 2.0588054866759067, 'could': 1.270061162794839, 'work': 1.0596104813121365, 'abstract': 1.339412810974585, 'ha': 1.4103910817609868, 'fullref': 0, 'statist': 2.9256392861202754, 'construct': 1.4448462720482367, 'predictor': 1.9651244437980488, 'model': 0.6019897569165692, 'modal': 1.9399408977798, 'amount': 1.6238819117506993, 'distort': 2.066923376898086, 'decrea': 0, 'research': 1.028520682771439, 'index': 1.8089280134593069, 'serv': 1.6806095361996263, 'data': 0.6389109021158188, 'lead': 1.1848178813882704, 'natur': 1.3012407670740407, 'exten': 0, 'imag': 8.217833341448939, 'structur': 0.9850192725149881, 'consid': 1.2397492485260002, 'degr': 0, 'domain': 1.3097566179965703, 'network': 0.7973223315576641, 'signal': 1.1322344038344403, 'cau': 0, 'special': 1.8134756412100275, 'compress': 7.3656795576805685, 'expect': 1.6908287013813124, 'featur': 0.9981076463222951, 'properti': 1.2336920445932174, 'worldwid': 1.8773853941151586, 'combin': 1.0292714080783463, 'well': 1.0307767630756632, 'lossi': 4.657602497199838, 'propo': 0, None: 0}\n",
            "{'cell': 0.7847332042496435, 'er': 2.2471312021485996, 'stress': 1.6873955255429185, 'interact': 1.1557154996839631, 'dure': 1.1081522082600257, 'glia': 3.0922292421628566, 'sirt4': 3.490169250834894, 'calreticulin': 3.490169250834894}\n",
            "{'ct': 2.2471312021485996, 'surgeri': 4.315461581838577, 'class': 1.4837032085856623, 'airway': 2.328801248599919, 'receiv': 1.468979951764956, 'setback': 3.189139255170913, 'chang': 1.234896745731588, 'patient': 0.9631841822748984, 'bimaxillari': 3.189139255170913, 'mandibular': 2.8881092595069315, 'iii': 1.9278763863784194, 'compar': 0.8259975454729632, 'evalu': 0.9399408977798, 'pharyng': 2.9461012064846184}\n",
            "{'consid': 1.2397492485260002, 'visnir': 2.645071210820637, 'analysi': 0.8057727724158736, 'appl': 2.359835482339888, 'spectroscopi': 1.9278763863784194, 'onlin': 1.7999731708063804, 'base': 0.7120180004512505, 'differ': 0.7373528196466227, 'speed': 1.7342943951624028, 'watercor': 3.490169250834894, 'fulltransmitt': 3.3140779917792127, 'orient': 2.137986732723532}\n",
            "{'protocol': 1.8881092595069318, 'v140': 3.490169250834894, 'analysi': 0.8057727724158736, 'classif': 1.2521231477060988, 'updat': 1.6706253152930255, 'function': 0.8875667304146376, 'system': 0.834550667293672, 'largesc': 0, 'gene': 1.127498321109227, 'genom': 1.4967330203372824, 'panther': 3.0922292421628566}\n",
            "{'curv': 1.9338667500676068, 'differenti': 1.4390167283875128, 'surfac': 1.5870792638429505, 'geometri': 2.027771252935938}\n",
            "{'optim': 5.581690528805319, 'result': 0.5422456310031677, 'multiobject': 7.470507752504682, 'function': 0.8875667304146376, 'order': 1.3199075354399368, 'deriv': 1.4038094201601459, 'applic': 0.9092442751592749, 'error': 2.4917842600661024, 'complic': 1.8567007952553076, 'prefer': 2.0922292421628566, 'solv': 1.5556707995913264, 'numer': 1.5407792441899812, 'obviat': 3.3140779917792127, 'gener': 0.8442559758010499, 'conceal': 3.374791051085837, 'genet': 1.4448462720482367, 'report': 1.202367520904668, 'modifi': 1.673927950843111, 'util': 1.336354386490365, 'thi': 0.34543941001024425, 'known': 1.3663176098678083, 'simul': 1.3378809064518375, 'pareto': 3.013047996115232, 'inher': 2.005869411488108, 'enhanc': 1.193504060573363, 'mutual': 2.4109880047872694, 'exist': 1.0768694867536424, 'model': 0.6019897569165692, 'algorithm': 0.9612525505572393, 'show': 0.6974274650001455, 'method': 1.1453274825646949, 'may': 1.0058694114881082, 'suffer': 1.910385654218084, 'simpl': 1.4669167912011827, 'case': 1.218327644298395, 'studi': 0.6070758922592042, 'simultan': 1.6772558941920386, 'imag': 2.4653500024346817, 'underli': 1.4146222894423632, 'solut': 1.4257112616079757, 'notion': 2.5124456455460464, 'domain': 1.3097566179965703, 'approach': 0.7804753811071022, 'problem': 2.150391805728152, 'lack': 1.4967330203372824, 'encount': 2.328801248599919, 'fail': 1.8773853941151586, 'power': 1.4390167283875128, 'evolut': 3.608855024465261, 'compromi': 0, 'convex': 2.359835482339888, 'fit': 2.005869411488108, 'number': 1.1467606570310367, 'shortcom': 2.5124456455460464, 'propo': 0}\n",
            "{'coat': 2.328801248599919, 'magnetron': 10.470507752504682, 'use': 0.3941286965394666, 'hef': 27.921354006679152, 'technic': 2.200134639472376, 'effect': 0.7091323122137623, 'fabric': 2.3140779917792127, 'thermal': 4.256882829634603, 'increa': 0, 'resist': 1.479445385443121, 'applic': 2.7277328254778244, 'differ': 0.7373528196466227, 'high': 1.012324774496136, 'compar': 0.8259975454729632, 'excel': 1.8827142276202256, 'corro': 0, 'strategi': 1.1438162763842554, 'magnetronsputt': 3.490169250834894, 'consid': 0.0, 'due': 1.1063538848544627, 'highentropi': 6.980338501669788, 'given': 1.3663176098678083, 'electrochem': 2.5870792638429507, 'interest': 3.0248912910920924, 'variou': 1.1360608116874933, 'scientif': 2.005869411488108, 'classif': 1.2521231477060988, 'report': 2.404735041809336, 'stabil': 1.673927950843111, 'mechan': 0.9850192725149881, 'thi': 0.6908788200204885, 'surfac': 1.5870792638429505, 'superior': 1.6065078156812764, 'prepar': 2.020347234856731, 'section': 2.137986732723532, 'improv': 0.7911992464988753, 'overview': 1.765893381234105, 'sputter': 9.567417765512738, 'made': 1.6328367544036257, 'deposit': 2.2726853066209878, 'ha': 0.7051955408804934, 'perform': 0.7005885386704687, 'microstructur': 2.211415649882065, 'recent': 1.8860202590149533, 'develop': 1.5011938127696045, 'field': 1.318442797181663, 'outcom': 1.3863655298789372, 'paramet': 1.270061162794839, 'also': 0.7762588967059387, 'last': 1.71931723919275, 'discu': 0, 'signif': 0, 'articl': 1.4752289010419575, 'convent': 1.5843733704670255, 'techniqu': 1.012324774496136, 'multicompon': 3.013047996115232, 'temperatur': 1.8418092398539625, 'exploit': 1.5925421595444527, 'progress': 1.347154450580799, 'commun': 1.3967475656726591, 'advanc': 1.2218253368838294, 'engin': 1.673927950843111, 'seen': 2.109958009123288, 'oxid': 1.910385654218084, 'properti': 3.701076133779652, 'film': 7.032123645469969, 'good': 3.0622557170276012}\n",
            "{'use': 0.7882573930789332, 'optim': 3.349014317283191, 'residueresidu': 3.490169250834894, 'object': 1.081081881387059, 'eg': 3.136965550702584, 'common': 1.3534486836784874, '200': 2.211415649882065, 'interest': 1.5124456455460462, 'novel': 0.9485900068883132, 'term': 1.3630644524700866, 'distanc': 7.552437038027727, 'dnabind': 2.7120180004512506, 'distort': 2.066923376898086, 'presenc': 1.6513201600976388, 'lead': 1.1848178813882704, 'toxin': 2.615107987443194, 'automat': 1.5952995940896415, 'detect': 1.900932023774137, 'simultan': 1.6772558941920386, 'equiv': 0, 'structur': 6.895134907604917, 'secondbest': 3.0922292421628566, 'chain': 1.9338667500676068, 'length': 1.9161379831071752, 'first': 1.0636579894703189, 'connect': 3.201735096657168, 'best': 1.4923461700891687, 'bacteri': 4.101673114009263, 'decompo': 0, 'coordin': 1.9523501557616199, 'comparison': 2.840262768454278, 'sensit': 1.5011646351363572, 'identifi': 0.9381097166470097, 'alphac': 3.490169250834894, 'geometr': 2.0508365570046316, 'lambda': 3.490169250834894, 'allow': 1.2160114015712142, 'colicin': 3.490169250834894, 'similar': 3.756369443118296, 'grow': 1.8089280134593069, 'two': 0.8924740649093817, 'unexpect': 2.7120180004512506, 'accur': 1.4038094201601459, 'known': 2.7326352197356165, 'protein': 5.222825237806483, 'impo': 0, 'set': 1.0030308753577075, 'biolog': 1.2521231477060988, 'hexapeptidehexapeptid': 3.490169250834894, 'eukaryot': 2.2860492681789695, 'option': 1.958690333792639, 'pairwi': 0, 'pouspecif': 3.490169250834894, 'sever': 0.9884255212068996, 'globin': 3.3140779917792127, 'direct': 1.2648599691090312, 'resembl': 2.615107987443194, 'elementari': 2.7498065613406504, 'pool': 1.9782858898560198, 'fold': 2.2860492681789695, 'result': 0.5422456310031677, 'larger': 1.8721211541228013, 'alpha': 2.490169250834894, 'matric': 8.630923163677155, 'ani': 1.4487765656766691, 'agreement': 2.2998375526646027, 'topolog': 4.219916018246576, 'carlo': 2.2998375526646027, 'threedimens': 0.0, 'contact': 4.055542505871876, 'procedur': 1.6640944481340676, 'repressor': 3.013047996115232, 'develop': 0.7505969063848023, 'algorithm': 0.9612525505572393, 'method': 1.1453274825646949, 'intramolecular': 3.3140779917792127, 'allagainst': 0, 'pattern': 2.9338335824023654, 'parallel': 3.7134015905106152, 'dali': 3.3140779917792127, 'combin': 1.0292714080783463, 'import': 0.965124443798049, 'fulli': 1.6389109021158188, 'mont': 2.2998375526646027, 'gap': 1.8467165743487066, 'consist': 1.270061162794839, 'align': 10.620059684573624, 'classif': 2.5042462954121976, 'pair': 3.53178676246821, 'submatr': 0, 'repr': 0, 'tertiari': 2.490169250834894, 'even': 1.45876078658327, 'sequenti': 2.066923376898086, 'c': 1.7498065613406504, 'calcul': 1.5790116420949174, 'rever': 0, 'sequenc': 2.3892043017448303, 'solut': 1.4257112616079757, 'domain': 1.3097566179965703, 'segment': 1.4527427528942705, 'free': 1.9988075570006214, 'rapidli': 1.8418092398539625, 'core': 1.8516799938802568, 'defin': 1.5078980177953256, 'score': 1.5658899647730125, 'visual': 1.394999899403139}\n",
            "{'use': 1.5765147861578663, 'region': 1.344041215156656, 'batutegi': 3.490169250834894, 'major': 2.594089304960865, 'result': 0.5422456310031677, 'analysi': 0.8057727724158736, 'suggest': 1.1507178095284534, 'qualiti': 5.5407610413001285, 'manag': 1.4390167283875128, 'sourc': 1.394999899403139, 'tration': 3.490169250834894, 'indonesia': 2.9461012064846184, 'adequ': 2.211415649882065, 'prevent': 1.3795795405356452, 'hulu': 3.490169250834894, 'solid': 2.020347234856731, 'variat': 1.5407792441899812, 'river': 8.031767682576115, 'downstream': 1.7618154688136656, 'differ': 2.212058458939868, 'rel': 1.4628196430601377, 'dure': 1.1081522082600257, 'agricultur': 1.9523501557616199, 'becau': 0, 'impact': 2.666634699529766, 'sangharu': 3.490169250834894, 'two': 1.7849481298187635, 'site': 1.6328367544036257, 'current': 1.0596104813121365, 'plantat': 2.9461012064846184, 'addit': 0.9749579465070922, 'improv': 0.7911992464988753, 'upland': 3.3140779917792127, 'concen': 3.490169250834894, 'present': 0.8477047305927727, 'hydropow': 3.490169250834894, 'watersh': 2.9461012064846184, 'clear': 1.8827142276202256, 'even': 1.45876078658327, 'conserv': 1.9988075570006214, 'field': 1.318442797181663, 'paramet': 2.540122325589678, 'decrea': 0, 'condit': 1.1924087397357601, 'categori': 1.921967526767899, 'averag': 1.5556707995913264, 'exhibit': 3.367978553702014, 'may': 1.0058694114881082, 'water': 14.695653896476404, 'ero': 0.0, 'period': 1.7381208030154556, 'studi': 1.2141517845184084, 'land': 7.128677695584173, 'reservoir': 2.6772558941920384, 'sampl': 2.2798424650014626, 'relationship': 1.4390167283875128, 'event': 1.521686302280959, 'indic': 1.2080004725302524, 'chang': 1.234896745731588, 'fresh': 2.393259237826838, 'target': 0.9918586970452936, 'percentag': 2.2471312021485996, 'suspend': 3.3140779917792127, 'product': 1.3068994071520894, 'irrig': 2.645071210820637, 'base': 0.7120180004512505, 'select': 1.1284414148173012, 'dam': 6.026095992230464, 'sekampung': 6.980338501669788, 'import': 0.965124443798049, 'forest': 2.167949956100975}\n",
            "{'japan': 2.560750325120601, 'four': 1.5311278585138006, 'age': 1.3812661231675807, 'studi': 0.6070758922592042, 'pertussi': 3.013047996115232, 'diminish': 2.328801248599919, 'effect': 0.7091323122137623, 'casecontrol': 2.6772558941920384, 'infanc': 3.0922292421628566, 'elementari': 2.7498065613406504, 'vaccin': 1.6772558941920386, 'dure': 1.1081522082600257, 'school': 2.645071210820637, 'testneg': 3.3140779917792127, 'dose': 1.7700099474289372}\n",
            "{'cell': 11.770998063744653, 'use': 0.3941286965394666, 'axon': 8.249419684021952, 'produc': 1.3663176098678083, 'larg': 1.1135922937783822, 'molecular': 1.2915121638804714, 'mingl': 3.490169250834894, 'array': 2.083629070400939, 'green': 2.17841538977914, 'host': 14.094523750509325, 'contribut': 1.312632750905032, 'enter': 2.2726853066209878, 'promi': 0, '15': 1.7911992464988753, 'vital': 2.109958009123288, 'therefor': 1.3566303424646766, 'integr': 2.4274148933233, 'wherea': 1.7084138761824252, 'structur': 2.955057817544964, 'modul': 1.389798705717331, 'wileyliss': 3.490169250834894, 'place': 1.9918586970452936, 'tube': 2.7498065613406504, 'analysi': 0.8057727724158736, 'identifi': 0.9381097166470097, 'embryon': 7.845323962329582, 'proteinexpress': 3.490169250834894, 'understand': 1.1816048372736552, 'diacet': 3.490169250834894, 'coloni': 5.230215974886388, 'nucleu': 0.0, 'experi': 0.0, 'directli': 1.5658899647730125, 'bodi': 1.7618154688136656, 'dorsal': 3.3140779917792127, 'en': 2.615107987443194, 'examin': 1.4710529603878213, 'show': 1.394854930000291, 'stem': 3.53178676246821, 'primarili': 1.958690333792639, 'embryolog': 3.3140779917792127, 'neurofila': 3.490169250834894, 'inc': 2.6772558941920384, 'divid': 1.899104643808395, 'transplant': 9.25631196711685, 'embryo': 11.784404825938473, 'type': 1.1246812659439944, 'advanc': 1.2218253368838294, 'β3tubulin': 3.490169250834894, 'result': 0.5422456310031677, 'larger': 1.8721211541228013, 'includ': 0.8773853941151586, 'penetr': 2.645071210820637, 'nervou': 2.2471312021485996, 'distinguish': 2.0922292421628566, 'easili': 1.9523501557616199, 'vivo': 3.2418750622078356, 'migrat': 2.1191013885631578, 'thi': 0.34543941001024425, 'develop': 1.5011938127696045, 'medicin': 1.774165907200095, 'wa': 0.7658933812341051, 'adjac': 2.1010031664703614, 'stain': 4.786518475653676, 'inten': 0, 'epithelialstag': 3.490169250834894, 'studi': 1.2141517845184084, 'mass': 1.7012941350594775, 'system': 1.669101334587344, 'morpholog': 1.910385654218084, 'graft': 18.55337545297714, 'day': 1.7419812238286938, '2002': 2.9461012064846184, 'surviv': 3.116406272213443, 'hold': 2.2471312021485996, 'rosett': 3.490169250834894, 'root': 2.3140779917792127, 'deriv': 2.8076188403202917, '2': 1.1099580091232881, 'serv': 1.6806095361996263, 'somit': 3.490169250834894, 'environ': 1.5531531433700798, 'tissu': 2.8076188403202917, 'uniqu': 1.5925421595444527, 'e': 14.833709719942105, 'neural': 2.1554174068098657, 'neuron': 1.9161379831071752, 'chick': 13.960677003339576, 'access': 1.6065078156812764, 'ovo': 6.980338501669788, 'may': 2.0117388229762163, 'ganglion': 2.9461012064846184, 'pluripot': 2.211415649882065, 'fluoresc': 1.8089280134593069, 'organogenesisstag': 3.490169250834894, 'express': 1.101890387375255, 'epithelium': 2.393259237826838, 'shown': 1.3695953196290442, 'characterist': 1.3863655298789372, 'differenti': 10.07311709871259, 'human': 8.982968816900655, 'thu': 1.270061162794839, 'carboxyfluorescein': 3.490169250834894, 'histolog': 2.393259237826838, 'contain': 1.4547395126503457}\n"
          ]
        }
      ],
      "source": [
        "\n",
        "def generate_tfidf_list(corpus: dict, positional_index: dict) -> list[dict[str, float]]:\n",
        "    \"\"\"\n",
        "    Generates a list of dictionaries representing documents with associated TF-IDF scores.\n",
        "\n",
        "    Parameters\n",
        "    ----------\n",
        "    corpus : dict\n",
        "        The corpus containing the processed data.\n",
        "    positional_index : dict\n",
        "        The positional index containing the term frequencies and document frequencies.\n",
        "\n",
        "    Returns\n",
        "    -------\n",
        "    list[dict[str, float]]\n",
        "        The list of dictionaries representing documents with associated TF-IDF scores.\n",
        "    \"\"\"\n",
        "\n",
        "    # TODO: Write the function to generate the list of dictionaries with TF-IDF scores.\n",
        "    tf_idf_list = []\n",
        "    all_doc = corpus.items()\n",
        "\n",
        "    for _id, doc in corpus.items():\n",
        "        tf_idf_doc = {}\n",
        "        tokens = doc['title'] + doc['abstract']\n",
        "\n",
        "        for t in set(tokens):\n",
        "            t = convert(preprocessor.preprocess(t))\n",
        "            tf = get_tf(t, docs, _id)\n",
        "            idf = get_idf(t ,docs)\n",
        "            tf_idf_doc[t] = tf * idf\n",
        "\n",
        "        tf_idf_list.append(tf_idf_doc)\n",
        "    return tf_idf_list\n",
        "\n",
        "\n",
        "tfidf = generate_tfidf_list(corpus, docs)\n",
        "\n",
        "for tfidf_doc in tfidf[:15]:\n",
        "    print(tfidf_doc)"
      ]
    },
    {
      "cell_type": "code",
      "execution_count": 15,
      "metadata": {
        "colab": {
          "base_uri": "https://localhost:8080/"
        },
        "id": "OLOYP4MoAUOG",
        "outputId": "e5af4e03-8b61-4a7a-9c79-354f6742bd3a"
      },
      "outputs": [
        {
          "name": "stdout",
          "output_type": "stream",
          "text": [
            "carbid          \t3.490169250834894\t(normalized: 0.3797625948820716)\n",
            "sic             \t3.3140779917792127\t(normalized: 0.36060224228340043)\n",
            "grind           \t3.0922292421628566\t(normalized: 0.3364630528141514)\n",
            "ultrason        \t2.9461012064846184\t(normalized: 0.3205629751887145)\n",
            "vibrat          \t2.645071210820637\t(normalized: 0.287808136075011)\n",
            "ceram           \t2.615107987443194\t(normalized: 0.28454786110177666)\n",
            "silicon         \t2.5870792638429507\t(normalized: 0.28149807754096096)\n",
            "amplitud        \t2.393259237826838\t(normalized: 0.2604086716325276)\n",
            "minor           \t2.2597203294566204\t(normalized: 0.24587840713367512)\n",
            "ground          \t2.2229975224318803\t(normalized: 0.24188262713425737)\n",
            "face            \t1.893572155208434\t(normalized: 0.2060381097811723)\n",
            "surfac          \t1.5870792638429505\t(normalized: 0.17268885724563357)\n",
            "analysi         \t0.8057727724158736\t(normalized: 0.08767550710177546)\n"
          ]
        }
      ],
      "source": [
        "def show_document_vector(vector: list[dict[str, float]], doc_index: int) -> None:\n",
        "    \"\"\"\n",
        "    Prints the non-zero weights and corresponding terms for a document represented as a vector.\n",
        "\n",
        "    Parameters\n",
        "    ----------\n",
        "    vector : list of dict of str:float\n",
        "        The list of document vectors, where each document vector is a dictionary with term weights.\n",
        "    doc_id : int\n",
        "        The document index for which to display the vector.\n",
        "\n",
        "    Returns\n",
        "    -------\n",
        "    None\n",
        "    \"\"\"\n",
        "    vector_list = [(term, weight) for term, weight in vector[doc_index].items() if weight > 0]\n",
        "    vector_list.sort(key=lambda x: x[1], reverse=True)\n",
        "    length = math.sqrt(sum(weight ** 2 for _, weight in vector_list))\n",
        "    normalized = {term: tfidf / length for term, tfidf in vector_list}\n",
        "    for term, tfidf in vector_list:\n",
        "        print(f'{term.ljust(16)}\\t{tfidf}\\t(normalized: {normalized[term]})')\n",
        "\n",
        "show_document_vector(tfidf, 0)"
      ]
    },
    {
      "cell_type": "markdown",
      "metadata": {
        "id": "f4rw97q2AUOG"
      },
      "source": [
        "<div dir='rtl'>\n",
        "<h2>2-2.\n",
        "امتیازدهی به سندها\n",
        "</h2>\n",
        "<p>\n",
        "در این بخش می‌خواهیم تا با سه شیوه‌ی متفاوت، داکیومنت‌ها را امتیازدهی کرده و kتا با بالاترین امتیاز را برگردانیم.\n",
        "روش‌ها به شکل زیر است:\n",
        "\n",
        "- **ltc.lnc:** در این روش از cosine similarity استفاده می‌کنیم و داده‌ها را بر اساس آن مرتّب می‌کنیم. برای متوجّه شدن نحوه‌ی عملکرد این سیستم، می‌توانید به اسلایدهای درس مراجعه کنید. همچنین دقت کنید که لازم است این امتیازدهی را هم به روش\n",
        "term-at-a-time\n",
        "و هم به روش\n",
        "doc-at-a-time\n",
        "محاسبه کنید.\n",
        "\n",
        "- **Okapi25:** برای پیاده‌سازی این روش از تساوی زیر استفاده کنید:\n",
        "</p>\n",
        "</div>\n",
        "<div>\n",
        "<p>\n",
        "\n",
        "$$ RSV_d = \\sum_{t \\in q} idf(t)\\times\\frac{(k_1 + 1)tf(t, d)}{k_1((1 - b) + b\\frac{dl(d)}{avg(dl)}) + tf(t, d)} $$\n",
        "</p>\n",
        "</div>\n",
        "<div dir='rtl'>\n",
        "<p>\n",
        "برای محاسبه این دو معیار، از توابعی که در بخش قبل پیاده‌سازی کردید استفاده کنید.\n",
        "\n",
        "در تابع search که مربوط به جست و جوی پرسمان کلی است، به عنوان ورودی پارامتر پرسمان (query)، روش محاسبه امتیاز (method)، تعداد اسنادی که باید برگردانده شود (max-result-count) را ورودی می گیرید. ورودی وزن\n",
        "(weight)\n",
        "نشان می‌دهد که امتیاز نهایی چه وزنی از امتیاز عنوان و چکیده دارد. به زبان دیگر:\n",
        "</p>\n",
        "</div>\n",
        "<div>\n",
        "<p>\n",
        "\n",
        "$$ final\\_score = weight \\times title\\_score + (1 - weight) \\times abstract\\_score $$\n",
        "</p>\n",
        "</div>\n",
        "<div dir='rtl'>\n",
        "<p>\n",
        "\n",
        "**توجّه کنید** که تابع نوشته شده، صرفاً یک prototype است و تا وقتی که نیازمندی‌های گفته شده را پیاده کنید، تغییر تابع مشکلی ندارد.\n",
        "</p>\n",
        "</div>"
      ]
    },
    {
      "cell_type": "code",
      "execution_count": 16,
      "metadata": {
        "id": "sB7JMoJRn1gg"
      },
      "outputs": [],
      "source": [
        "def get_df_sec(token, positional_index, section):\n",
        "    return sum(1 for index in positional_index.get(token, {}).values() if section in index and index[section])\n",
        "\n",
        "def get_idf_sec(token, positional_index, total_docs , section):\n",
        "    df = get_df_sec(token, positional_index , section)\n",
        "    if df == 0:\n",
        "        return 0\n",
        "    return math.log10(total_docs / df)"
      ]
    },
    {
      "cell_type": "code",
      "execution_count": 17,
      "metadata": {
        "id": "1JAwoZhVHanZ"
      },
      "outputs": [],
      "source": [
        "def cosine_norm(tfidf_vector):\n",
        "    norm = np.sqrt(sum(tfidf ** 2 for tfidf in tfidf_vector.values()))\n",
        "    return {term: tfidf / norm for term, tfidf in tfidf_vector.items()} if norm else tfidf_vector\n",
        "\n",
        "\n",
        "def cosine_similarity(vec1, vec2):\n",
        "    common_terms = set(vec1.keys()).intersection(set(vec2.keys()))\n",
        "    dot_product = sum(vec1[term] * vec2[term] for term in common_terms)\n",
        "    norm1 = np.sqrt(sum(value ** 2 for value in vec1.values()))\n",
        "    norm2 = np.sqrt(sum(value ** 2 for value in vec2.values()))\n",
        "    if norm1 > 0 and norm2 > 0:\n",
        "        return dot_product / (norm1 * norm2)\n",
        "    else:\n",
        "        return 0.0\n"
      ]
    },
    {
      "cell_type": "code",
      "execution_count": 18,
      "metadata": {},
      "outputs": [],
      "source": [
        "from collections import Counter\n",
        "from collections import defaultdict\n",
        "all_idf = {}\n",
        "all_tf = defaultdict(lambda: defaultdict(dict))\n",
        "positional_index = construct_positional_indexes(corpus)\n",
        "N = len(corpus)\n",
        "for token in positional_index.keys():\n",
        "    for section in ['title', 'abstract']:\n",
        "        df = sum(1 for doc_info in positional_index.get(token, {}).values() if section in doc_info and doc_info[section])\n",
        "        all_idf[(token, section)] = math.log10(N / df) if df else 0\n",
        "\n",
        "for token, docs_info in positional_index.items():\n",
        "    for doc_id, positions_info in docs_info.items():\n",
        "        tf_title = len(positions_info.get('title', []))\n",
        "        tf_abstract = len(positions_info.get('abstract', []))\n",
        "        all_tf[doc_id][token]['title'] = tf_title\n",
        "        all_tf[doc_id][token]['abstract'] = tf_abstract\n",
        "\n"
      ]
    },
    {
      "cell_type": "code",
      "execution_count": 19,
      "metadata": {
        "id": "hW8MelHRGMM8"
      },
      "outputs": [],
      "source": [
        "def get_tfidf_vector_for_doc(doc_id, field, N, doc):\n",
        "    tfidf_vector = {}\n",
        "    for term in doc:\n",
        "            idf = all_idf[(term, field)]\n",
        "            tf = all_tf[doc_id][term][field]\n",
        "            tf = 1 + math.log(tf) if tf > 0 else 0\n",
        "            tfidf_vector.setdefault(term, 0)\n",
        "            tfidf_vector[term] = tf * idf\n",
        "    return cosine_norm(tfidf_vector)\n",
        "\n",
        "    \n",
        "def get_tfidf_vector_for_query(query):\n",
        "    tfidf_vector = defaultdict(int)\n",
        "    for word in query:\n",
        "        tfidf_vector[word] += 1\n",
        "    result = {}\n",
        "    for word, tf in tfidf_vector.items():\n",
        "        result[word] = 1 + math.log10(tf)\n",
        "    return result"
      ]
    },
    {
      "cell_type": "code",
      "execution_count": 20,
      "metadata": {
        "colab": {
          "base_uri": "https://localhost:8080/"
        },
        "id": "p50zTmLjAUOG",
        "outputId": "59452ec7-7ab6-4822-91c7-60e8d8269cd3"
      },
      "outputs": [],
      "source": [
        "\n",
        "def search(query: str, max_result_count: int, method: str = 'ltc-lnc-tat', weight: float = 0.5):\n",
        "    \"\"\"\n",
        "    Finds relevant documents to query\n",
        "\n",
        "    Parameters\n",
        "    ---------------------------------------------------------------------------------------------------\n",
        "    max_result_count: Return top 'max_result_count' docs which have the highest scores.\n",
        "                        notice that if max_result_count = -1, then you have to return all docs\n",
        "\n",
        "    method: 'ltc-lnc-tat' or 'ltc-lnc-dat' or 'okapi25'\n",
        "\n",
        "    Returns\n",
        "    ----------------------------------------------------------------------------------------------------\n",
        "    list\n",
        "    Retreived documents with snippet\n",
        "    \"\"\"\n",
        "\n",
        "    tokens = []\n",
        "    for t in query.split():\n",
        "      processed_token = preprocessor.preprocess(t)\n",
        "      tokens.append(convert(processed_token))\n",
        "\n",
        "    process_query = preprocessor.preprocess(query)\n",
        "\n",
        "    score_title = {}\n",
        "    for _id in list(corpus.keys()):\n",
        "        score_title[_id] = 0\n",
        "\n",
        "    score_abstract = {}\n",
        "    for _id in list(corpus.keys()):\n",
        "        score_abstract[_id] = 0\n",
        "\n",
        "    # BM25 score calculation\n",
        "    k1 = 1.2\n",
        "    b = 0.6\n",
        "\n",
        "    tf_title = 0\n",
        "    tf_abstract = 0\n",
        "    \n",
        "    final_scores = defaultdict(float)\n",
        "    N = len(corpus)\n",
        "\n",
        "    if method == 'okapi25':\n",
        "      total_length = sum(len(doc['title']) + len(doc['abstract']) for doc in corpus.values())\n",
        "      avgdl = total_length / N\n",
        "      for token in tokens:\n",
        "          idf = get_idf(token, positional_index)\n",
        "          for doc_id in corpus.keys():\n",
        "              tf_title = len(positional_index.get(token, {}).get(doc_id, {}).get('title', []))\n",
        "              tf_abstract = len(positional_index.get(token, {}).get(doc_id, {}).get('abstract', []))\n",
        "              dl = len(corpus[doc_id]['title']) + len(corpus[doc_id]['abstract'])\n",
        "              title_score = get_idf_sec(token, positional_index, N , 'title') * (tf_title * (k1 + 1)) / (tf_title + k1 * (1 - b + b * (dl / avgdl)))\n",
        "              abstract_score = get_idf_sec(token, positional_index, N , 'abstract') * (tf_abstract * (k1 + 1)) / (tf_abstract + k1 * (1 - b + b * (dl / avgdl)))\n",
        "              final_scores[doc_id] += weight * title_score + (1 - weight) * abstract_score\n",
        "\n",
        "    elif method == 'ltc-lnc-dat':\n",
        "      N = len(corpus)\n",
        "      query_vector = get_tfidf_vector_for_query(process_query)\n",
        "      for doc_id , doc in corpus.items():\n",
        "          doc_vector_title = get_tfidf_vector_for_doc(doc_id, 'title', N, doc['title'])\n",
        "          doc_vector_abstract = get_tfidf_vector_for_doc(doc_id, 'abstract', N,  doc['abstract'])\n",
        "          title_score = cosine_similarity(query_vector, doc_vector_title)\n",
        "          abstract_score = cosine_similarity(query_vector, doc_vector_abstract)\n",
        "          final_scores[doc_id] += weight * title_score + (1 - weight) * abstract_score\n",
        "\n",
        "    elif method == 'ltc-lnc-tat':\n",
        "        query_vector = get_tfidf_vector_for_query(process_query)\n",
        "        for word in query_vector:\n",
        "            for doc_id, doc in corpus.items():\n",
        "                if word in doc['title'] or word in doc['abstract']:\n",
        "                    tf_title = all_tf[doc_id][word].get('title', 0)\n",
        "                    tf_abstract = all_tf[doc_id][word].get('abstract', 0)\n",
        "                    score_title = (1 + math.log10(tf_title)) * all_idf[(word, 'title')] if tf_title else 0\n",
        "                    score_abstract = (1 + math.log10(tf_abstract)) * all_idf[(word, 'abstract')] if tf_abstract else 0\n",
        "                    final_scores[doc_id] += query_vector[word] * (score_title * weight + score_abstract * (1 - weight))\n",
        "\n",
        "\n",
        "    sorted_docs = sorted(final_scores.items(), key=lambda item: item[1], reverse=True)\n",
        "\n",
        "    if max_result_count == -1:\n",
        "        return [doc_id for doc_id, score in sorted_docs]\n",
        "    else:\n",
        "        return [doc_id for doc_id, score in sorted_docs[:max_result_count]]"
      ]
    },
    {
      "cell_type": "markdown",
      "metadata": {
        "id": "KTLQmuIFAUOG"
      },
      "source": [
        "<div dir='rtl'>\n",
        "<h1>3.\n",
        "مدل‌های زبانی\n",
        "</h1>\n",
        "<p>\n",
        "در این بخش یک سیستم مبتنی بر مدل‌های زبانی پیاده‌سازی می‌کنید. مدل زبانی‌ای که باید استفاده کنید مدل\n",
        "unigram\n",
        "است که می‌توان گفت ساده‌ترین مدل ممکن است. در این مدل ما برای هر داک یک مدل دظر نظر می‌گیریم و احتمال حضور کلمات در مدل یک داک\n",
        "نسبت به هم مستقل هستند. در پیاده‌سازی این بخش دستتان خیلی باز است. مدل‌هایی که تشکیل می‌دهید و نحوه\n",
        "smoothing\n",
        "و همچنین پارامترهای مدل همگی به خودتان برمی‌گردد.\n",
        "</p>\n",
        "</div>"
      ]
    },
    {
      "cell_type": "code",
      "execution_count": 21,
      "metadata": {
        "id": "ObSZgQT1AUOH"
      },
      "outputs": [],
      "source": [
        "def lm_search(query: str, max_result_count: int, mu = 100):\n",
        "    \"\"\"\n",
        "    Finds relevant documents to query using Dirichlet smoothing.\n",
        "\n",
        "    Parameters\n",
        "    ---------------------------------------------------------------------------------------------------\n",
        "    query: Query string.\n",
        "    max_result_count: Return top 'max_result_count' docs which have the highest scores.\n",
        "    corpus: Dictionary of documents.\n",
        "    tokens: Dictionary with total count of each token in the corpus.\n",
        "    mu: Dirichlet prior parameter.\n",
        "\n",
        "    Returns\n",
        "    ----------------------------------------------------------------------------------------------------\n",
        "    list\n",
        "    Retrieved documents with snippet\n",
        "    \"\"\"\n",
        "    prep = Preprocessor(None)\n",
        "    query_tokens = prep.preprocess(query)\n",
        "\n",
        "    tokens = {}\n",
        "    for paperId, content in corpus.items():\n",
        "        for token in content['title'] + content['abstract']:\n",
        "            tokens[token] = tokens.get(token, 0) + 1\n",
        "\n",
        "    lengthOfTokens = sum(tokens.values())\n",
        "\n",
        "    scores = {}\n",
        "    for doc_id, doc in corpus.items():\n",
        "        doc_text = doc['title'] + doc['abstract']\n",
        "        doc_length = len(doc_text)\n",
        "        doc_score = {}\n",
        "\n",
        "        for token in query_tokens:\n",
        "            if token not in tokens.keys():\n",
        "                continue\n",
        "            tf = get_tf(token, docs, doc_id)\n",
        "            # Dirichlet smoothing\n",
        "            doc_score[token] = (tf + mu * (tokens[token] / lengthOfTokens)) / (doc_length + mu)\n",
        "        if doc_score:\n",
        "            scores[doc_id] = np.prod(list(doc_score.values()))\n",
        "\n",
        "    sorted_docs = sorted(scores.items(), key=lambda item: item[1], reverse=True)\n",
        "    result_docs = sorted_docs if max_result_count == -1 else sorted_docs[:max_result_count]\n",
        "    return [doc_id for doc_id, _ in result_docs]\n"
      ]
    },
    {
      "cell_type": "markdown",
      "metadata": {
        "id": "4Xavyee8AUOH"
      },
      "source": [
        "<div dir='rtl'>\n",
        "<h1>4.\n",
        "ارزیابی عملکرد سامانه\n",
        "</h1>\n",
        "<p>\n",
        "در این بخش معیارهای زیر را برای سیستم‌های طراحی شده پیاده‌سازی کنید. سپس در بخش آخر با فراخوانی توابع پیاده‌سازی شده و ورودی دادن مقادیر موجود در فایل\n",
        "validation.json\n",
        "به عنوان ورودی\n",
        "actual\n",
        "توابع، می‌توانید معیارها را برای سیستم‌های بازیابی خودتان بدست بیاورید.\n",
        "</p>\n",
        "</div>"
      ]
    },
    {
      "cell_type": "code",
      "execution_count": 22,
      "metadata": {
        "id": "3kVNzrPmAUOH"
      },
      "outputs": [],
      "source": [
        "class Evaluation:\n",
        "    def __init__(self, actual, predicts, queries):\n",
        "        self.actual = actual\n",
        "        self.queries = queries\n",
        "        self.predicts = predicts\n",
        "\n",
        "    def evaluate(self, require_scores):\n",
        "        \"\"\"\n",
        "        Prints require scores for actual and predicts array\n",
        "\n",
        "        Parameters\n",
        "        ----------\n",
        "        require_scores : List[str]\n",
        "            Scores required to calculated\n",
        "\n",
        "        Returns\n",
        "        -------\n",
        "        \"\"\"\n",
        "        methods = {\n",
        "            'precision': self.precision,\n",
        "            'recall': self.recall,\n",
        "            'f1': self.f1,\n",
        "            'map': self.map,\n",
        "            'ndcg': self.ndcg,\n",
        "            'mrr': self.mrr\n",
        "        }\n",
        "\n",
        "        for score in require_scores:\n",
        "            if score in methods:\n",
        "                print(f\"{score}: {methods[score]()}\")\n",
        "            else:\n",
        "                print(\"Scoring Function Not Found!\")\n",
        "\n",
        "    def precision(self):\n",
        "        \"\"\"\n",
        "        Calculates the precision of the predicted results\n",
        "\n",
        "        Parameters\n",
        "        ----------\n",
        "        actual : List[List[str]]\n",
        "            The actual results\n",
        "        predicted : List[List[str]]\n",
        "            The predicted results\n",
        "\n",
        "        Returns\n",
        "        -------\n",
        "        float\n",
        "            The precision of the predicted results\n",
        "        \"\"\"\n",
        "        precision = 0.0\n",
        "        num_queries = len(self.queries)\n",
        "        for query in self.queries:\n",
        "            actual = self.actual[query]\n",
        "            predicted = self.predicts[query]\n",
        "\n",
        "            tp = len(set(actual).intersection(set(predicted)))\n",
        "            if len(predicted) > 0:\n",
        "                query_precision = tp / len(predicted)\n",
        "            else:\n",
        "                query_precision = 0.0\n",
        "            precision += query_precision\n",
        "\n",
        "        if num_queries > 0:\n",
        "            avg = precision / num_queries\n",
        "        else:\n",
        "            avg = 0.0\n",
        "\n",
        "        return avg\n",
        "\n",
        "    def recall(self):\n",
        "        \"\"\"\n",
        "        Calculates the recall of the predicted results\n",
        "\n",
        "        Parameters\n",
        "        ----------\n",
        "        actual : List[List[str]]\n",
        "            The actual results\n",
        "        predicted : List[List[str]]\n",
        "            The predicted results\n",
        "\n",
        "        Returns\n",
        "        -------\n",
        "        float\n",
        "            The recall of the predicted results\n",
        "        \"\"\"\n",
        "        recall = 0.0\n",
        "        num_queries = len(self.queries)\n",
        "\n",
        "        for query in self.queries:\n",
        "            actual = self.actual[query]\n",
        "            predicted = self.predicts[query]\n",
        "\n",
        "            tp = len(set(actual).intersection(set(predicted)))\n",
        "\n",
        "            if len(actual) > 0:\n",
        "                query_recall = tp / len(actual)\n",
        "            else:\n",
        "                query_recall = 0.0\n",
        "\n",
        "            recall += query_recall\n",
        "\n",
        "        if num_queries > 0:\n",
        "            avg_recall = recall / num_queries\n",
        "        else:\n",
        "            avg_recall = 0.0\n",
        "\n",
        "        return avg_recall\n",
        "\n",
        "    def f1(self):\n",
        "        \"\"\"\n",
        "        Calculates the F1 score of the predicted results\n",
        "\n",
        "        Parameters\n",
        "        ----------\n",
        "        actual : List[List[str]]\n",
        "            The actual results\n",
        "        predicted : List[List[str]]\n",
        "            The predicted results\n",
        "\n",
        "        Returns\n",
        "        -------\n",
        "        float\n",
        "            The F1 score of the predicted results\n",
        "        \"\"\"\n",
        "        if self.precision() + self.recall() == 0:\n",
        "          return 0.0\n",
        "\n",
        "        f1_score = 2 * self.precision() * self.recall() / (self.precision() + self.recall())\n",
        "        return f1_score\n",
        "\n",
        "    def map(self):\n",
        "        \"\"\"\n",
        "        Calculates the Mean Average Precision of the predicted results\n",
        "\n",
        "        Parameters\n",
        "        ----------\n",
        "        actual : List[List[str]]\n",
        "            The actual results\n",
        "        predicted : List[List[str]]\n",
        "            The predicted results\n",
        "\n",
        "        Returns\n",
        "        -------\n",
        "        float\n",
        "            The Mean Average Precision of the predicted results\n",
        "        \"\"\"\n",
        "        map_score = 0.0\n",
        "\n",
        "        for q in self.queries:\n",
        "          actual = set(self.actual[q])\n",
        "          predicted = self.predicts[q]\n",
        "          precisions = []\n",
        "\n",
        "          for _id in actual:\n",
        "              if _id in predicted:\n",
        "                  index = predicted.index(_id)\n",
        "                  precision_at_k = len(set(predicted[:index + 1]).intersection(actual)) / (index + 1)\n",
        "                  precisions.append(precision_at_k)\n",
        "\n",
        "          if precisions:\n",
        "              map_score += sum(precisions) / len(precisions)\n",
        "\n",
        "        map = map_score / len(self.queries) if self.queries else 0.0\n",
        "        return map\n",
        "\n",
        "    def ndcg(self):\n",
        "        \"\"\"\n",
        "        Calculates the Normalized Discounted Cumulative Gain (NDCG) of the predicted results\n",
        "\n",
        "        Parameters\n",
        "        ----------\n",
        "        actual : List[List[str]]\n",
        "            The actual results\n",
        "        predicted : List[List[str]]\n",
        "            The predicted results\n",
        "\n",
        "        Returns\n",
        "        -------\n",
        "        float\n",
        "            The NDCG of the predicted results\n",
        "        \"\"\"\n",
        "        total_ndcg = 0.0\n",
        "\n",
        "        for query in self.queries:\n",
        "          actual = self.actual[query]\n",
        "          predicted = self.predicts[query]\n",
        "\n",
        "          relevance = {doc_id: rank for rank, doc_id in enumerate(reversed(actual), 1)}\n",
        "\n",
        "          dcg, idcg = 0.0, 0.0\n",
        "          for i, doc_id in enumerate(predicted):\n",
        "              if doc_id in relevance:\n",
        "                  dcg += relevance[doc_id] / math.log2(i + 2)\n",
        "\n",
        "          for rank, doc_id in enumerate(actual, 1):\n",
        "              idcg += rank / math.log2(rank + 1)\n",
        "          ndcg = dcg / idcg if idcg > 0 else 0\n",
        "          total_ndcg += ndcg\n",
        "\n",
        "        mean_ndcg = total_ndcg / len(self.queries) if self.queries else 0.0 \n",
        "        return mean_ndcg\n",
        "\n",
        "    def mrr(self):\n",
        "        \"\"\"\n",
        "        Calculates the Mean Reciprocal Rank of the predicted results\n",
        "\n",
        "        Parameters\n",
        "        ----------\n",
        "        actual : List[List[str]]\n",
        "            The actual results\n",
        "        predicted : List[List[str]]\n",
        "            The predicted results\n",
        "\n",
        "        Returns\n",
        "        -------\n",
        "        float\n",
        "            The MRR of the predicted results\n",
        "        \"\"\"\n",
        "        rr = 0.0\n",
        "\n",
        "        for query in self.queries:\n",
        "            actual_set = set(self.actual[query])\n",
        "            reciprocal_rank = 0\n",
        "            for i, pred in enumerate(self.predicts[query]):\n",
        "                if pred in actual_set:\n",
        "                    reciprocal_rank = 1 / (i + 1)\n",
        "                    break\n",
        "            rr += reciprocal_rank\n",
        "\n",
        "        mrr_score = (rr / len(self.actual)) if len(self.actual) > 0 else 0.0\n",
        "\n",
        "        return mrr_score\n"
      ]
    },
    {
      "cell_type": "code",
      "execution_count": 23,
      "metadata": {
        "id": "8zRiMNR6AUOH"
      },
      "outputs": [],
      "source": [
        "import json\n",
        "require_scores = [\"precision\", \"recall\", \"f1\", \"map\", \"ndcg\", \"mrr\"]\n",
        "\n",
        "with open('./AI & Bioinformatics/validation.json', 'r') as f:\n",
        "    validation_data = json.load(f)\n",
        "\n",
        "actuals = {query: q_acts for query, q_acts in validation_data.items()}\n",
        "queries = list(validation_data.keys())"
      ]
    },
    {
      "cell_type": "code",
      "execution_count": 24,
      "metadata": {
        "id": "TFjFMxfLAUOH"
      },
      "outputs": [
        {
          "name": "stdout",
          "output_type": "stream",
          "text": [
            "precision: 0.6\n",
            "recall: 0.6\n",
            "f1: 0.6\n",
            "map: 0.8374090608465609\n",
            "ndcg: 0.9597103186837869\n",
            "mrr: 1.0\n"
          ]
        }
      ],
      "source": [
        "predicts = {query: search(query, 10, method='ltc-lnc-dat') for query in queries}\n",
        "\n",
        "eval_vsm = Evaluation(actuals, predicts, queries)\n",
        "eval_vsm.evaluate(require_scores)"
      ]
    },
    {
      "cell_type": "code",
      "execution_count": 25,
      "metadata": {},
      "outputs": [
        {
          "name": "stdout",
          "output_type": "stream",
          "text": [
            "precision: 0.6333333333333333\n",
            "recall: 0.6333333333333333\n",
            "f1: 0.6333333333333333\n",
            "map: 0.7301596487360377\n",
            "ndcg: 0.9100692813713037\n",
            "mrr: 0.7321428571428571\n"
          ]
        }
      ],
      "source": [
        "predicts = {query: search(query, 10, method='ltc-lnc-tat') for query in queries}\n",
        "\n",
        "eval_vsm = Evaluation(actuals, predicts, queries)\n",
        "eval_vsm.evaluate(require_scores)"
      ]
    },
    {
      "cell_type": "code",
      "execution_count": 26,
      "metadata": {
        "id": "xBs2gXzbAUOI"
      },
      "outputs": [
        {
          "name": "stdout",
          "output_type": "stream",
          "text": [
            "precision: 0.6833333333333332\n",
            "recall: 0.6833333333333332\n",
            "f1: 0.6833333333333332\n",
            "map: 0.7227412184009406\n",
            "ndcg: 0.9433533304432862\n",
            "mrr: 0.7555555555555555\n"
          ]
        }
      ],
      "source": [
        "predicts =  {query: search(query, 10, method='okapi25') for query in queries}\n",
        "\n",
        "eval_bm = Evaluation(actuals, predicts, queries)\n",
        "eval_bm.evaluate(require_scores)"
      ]
    },
    {
      "cell_type": "code",
      "execution_count": 27,
      "metadata": {
        "id": "alVJLPFoAUOI"
      },
      "outputs": [
        {
          "name": "stdout",
          "output_type": "stream",
          "text": [
            "precision: 0.6833333333333332\n",
            "recall: 0.6833333333333332\n",
            "f1: 0.6833333333333332\n",
            "map: 0.703412514697237\n",
            "ndcg: 0.92315169505595\n",
            "mrr: 0.7238095238095239\n"
          ]
        }
      ],
      "source": [
        "predicts = {query: lm_search(query, 10) for query in queries}\n",
        "\n",
        "eval_lm = Evaluation(actuals, predicts, queries)\n",
        "eval_lm.evaluate(require_scores)"
      ]
    }
  ],
  "metadata": {
    "colab": {
      "provenance": []
    },
    "kernelspec": {
      "display_name": "Python 3.9.13 ('base')",
      "language": "python",
      "name": "python3"
    },
    "language_info": {
      "codemirror_mode": {
        "name": "ipython",
        "version": 3
      },
      "file_extension": ".py",
      "mimetype": "text/x-python",
      "name": "python",
      "nbconvert_exporter": "python",
      "pygments_lexer": "ipython3",
      "version": "3.9.13"
    },
    "vscode": {
      "interpreter": {
        "hash": "8eeaea9925481a4398fdebc4efd2db1ca97c7c74deb3f8956a706fc2169270da"
      }
    }
  },
  "nbformat": 4,
  "nbformat_minor": 0
}
